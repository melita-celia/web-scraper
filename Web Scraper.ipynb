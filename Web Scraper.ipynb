{
 "cells": [
  {
   "cell_type": "code",
   "execution_count": 1,
   "metadata": {},
   "outputs": [
    {
     "name": "stdout",
     "output_type": "stream",
     "text": [
      "Requirement already satisfied: beautifulsoup4 in c:\\users\\asus\\anaconda3\\lib\\site-packages (4.9.3)\n",
      "Requirement already satisfied: soupsieve>1.2; python_version >= \"3.0\" in c:\\users\\asus\\anaconda3\\lib\\site-packages (from beautifulsoup4) (2.0.1)\n",
      "Note: you may need to restart the kernel to use updated packages.\n"
     ]
    }
   ],
   "source": [
    "pip install beautifulsoup4"
   ]
  },
  {
   "cell_type": "code",
   "execution_count": 1,
   "metadata": {},
   "outputs": [],
   "source": [
    "from urllib.request import urlopen"
   ]
  },
  {
   "cell_type": "code",
   "execution_count": 2,
   "metadata": {},
   "outputs": [],
   "source": [
    "import urllib\n",
    "import csv\n",
    "import re\n",
    "import urllib.request\n",
    "from bs4 import BeautifulSoup"
   ]
  },
  {
   "cell_type": "code",
   "execution_count": 3,
   "metadata": {},
   "outputs": [
    {
     "name": "stdout",
     "output_type": "stream",
     "text": [
      "T-Series 15,338 152,954,796,472\n",
      "Cocomelon - Nursery Rhymes 635 100,483,247,970\n",
      "SET India 55,863 86,435,162,095\n",
      "WWE 54,635 58,152,893,189\n",
      "Like Nastya 575 57,152,155,198\n",
      "✿ Kids Diana Show 853 55,642,086,193\n",
      "Sony SAB 35,386 52,945,440,317\n",
      "Movieclips 37,173 51,177,510,394\n",
      "Vlad and Niki 353 47,940,016,784\n",
      "Ryan's World 1,970 46,859,418,867\n",
      "netd müzik 15,548 42,996,962,308\n",
      "ABS-CBN Entertainment 156,763 42,133,292,304\n",
      "El Reino Infantil 993 40,065,110,796\n",
      "Zee Music Company 5,418 37,042,135,345\n",
      "Canal KondZilla 1,844 34,096,844,432\n",
      "Little Baby Bum - Nursery Rhymes &… 1,529 32,980,895,204\n",
      "Colors TV 54,010 32,867,746,542\n",
      "ChuChu TV Nursery Rhymes & Kids So… 409 31,236,168,070\n",
      "Wave Music 18,572 30,887,295,670\n",
      "WorkpointOfficial 55,005 30,166,183,841\n",
      "Toys and Colors 588 28,751,091,696\n",
      "Маша и Медведь 947 28,341,323,965\n",
      "Super Simple Songs - Kids Songs 546 27,647,566,884\n",
      "PewDiePie 4,321 27,240,763,612\n",
      "Get Movies 2,973 25,721,707,083\n",
      "Justin Bieber 221 24,800,740,790\n",
      "Shemaroo Filmi Gaane 7,027 24,359,094,568\n",
      "Pinkfong! Kids' Songs & Stories 1,796 23,491,129,065\n",
      "one31 108,277 23,421,723,678\n",
      "Ed Sheeran 164 23,368,326,154\n",
      "JustinBieberVEVO 184 22,843,124,396\n",
      "LooLoo Kids - Nursery Rhymes and C… 497 22,416,791,379\n",
      "YRF 2,842 22,363,630,952\n",
      "Taylor Swift 188 22,066,293,774\n",
      "GMANetwork 96,624 22,028,736,974\n",
      "Katy Perry 107 21,826,433,695\n",
      "قناة طيور الجنة | toy… 2,942 21,661,539,348\n",
      "TheEllenShow 12,996 21,592,627,565\n",
      "KatyPerryVEVO 162 20,989,911,679\n",
      "TaylorSwiftVEVO 195 20,843,200,412\n",
      "Shakira 252 20,652,997,358\n",
      "SMTOWN 3,689 20,579,853,197\n",
      "Ch3Thailand 80,402 20,478,615,142\n",
      "5-Minute Crafts 4,702 20,194,959,248\n",
      "GMM GRAMMY OFFICIAL 9,210 20,153,986,358\n",
      "Speed Records 9,251 20,060,695,819\n",
      "Tips Official 3,029 20,013,401,047\n",
      "shakiraVEVO 170 19,772,142,035\n",
      "1theK (원더케이) 14,418 19,736,107,437\n",
      "FGTeeV 1,459 19,665,343,548\n"
     ]
    }
   ],
   "source": [
    "rank_page = 'https://socialblade.com/youtube/top/50/mostviewed'\n",
    "request = urllib.request.Request(rank_page, headers={'User-Agent': 'your user-agent'})\n",
    "page = urllib.request.urlopen(request)\n",
    "soup = BeautifulSoup(page, 'html.parser')\n",
    " \n",
    "channels = soup.find('div', attrs={'style': 'float: right; width: 900px;'}).find_all('div', recursive=False)[4:]\n",
    " \n",
    "file = open('topyoutubers.csv', 'w')\n",
    "writer = csv.writer(file)\n",
    " \n",
    "# write title row\n",
    "writer.writerow(['Username', 'Uploads', 'Views'])\n",
    " \n",
    "for channel in channels:\n",
    "    username = channel.find('div', attrs={'style': 'float: left; width: 350px; line-height: 25px;'}).a.text.strip()\n",
    "    uploads = channel.find('div', attrs={'style': 'float: left; width: 80px;'}).span.text.strip()\n",
    "    views = channel.find_all('div', attrs={'style': 'float: left; width: 150px;'})[1].span.text.strip()\n",
    " \n",
    "    print(username + ' ' + uploads + ' ' + views)\n",
    "    writer.writerow([username.encode('utf-8'), uploads.encode('utf-8'), views.encode('utf-8')])\n",
    " \n",
    " file.close()"
   ]
  },
  {
   "cell_type": "code",
   "execution_count": null,
   "metadata": {},
   "outputs": [],
   "source": []
  }
 ],
 "metadata": {
  "kernelspec": {
   "display_name": "Python 3",
   "language": "python",
   "name": "python3"
  },
  "language_info": {
   "codemirror_mode": {
    "name": "ipython",
    "version": 3
   },
   "file_extension": ".py",
   "mimetype": "text/x-python",
   "name": "python",
   "nbconvert_exporter": "python",
   "pygments_lexer": "ipython3",
   "version": "3.8.8"
  }
 },
 "nbformat": 4,
 "nbformat_minor": 4
}
